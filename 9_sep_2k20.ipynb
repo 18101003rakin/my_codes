{
  "nbformat": 4,
  "nbformat_minor": 0,
  "metadata": {
    "colab": {
      "name": "9-sep-2k20.ipynb",
      "provenance": [],
      "authorship_tag": "ABX9TyPPmXzOJhWwD6aBJY+gvOMN",
      "include_colab_link": true
    },
    "kernelspec": {
      "name": "python3",
      "display_name": "Python 3"
    }
  },
  "cells": [
    {
      "cell_type": "markdown",
      "metadata": {
        "id": "view-in-github",
        "colab_type": "text"
      },
      "source": [
        "<a href=\"https://colab.research.google.com/github/18101003rakin/my_codes/blob/master/9_sep_2k20.ipynb\" target=\"_parent\"><img src=\"https://colab.research.google.com/assets/colab-badge.svg\" alt=\"Open In Colab\"/></a>"
      ]
    },
    {
      "cell_type": "markdown",
      "metadata": {
        "id": "p-J1kWi12uXS",
        "colab_type": "text"
      },
      "source": [
        "**1. conditional statements**"
      ]
    },
    {
      "cell_type": "code",
      "metadata": {
        "id": "4ikiIiMW0dCu",
        "colab_type": "code",
        "colab": {
          "base_uri": "https://localhost:8080/",
          "height": 50
        },
        "outputId": "7b38dc28-7cc9-4609-cde6-dc0125a29a76"
      },
      "source": [
        "is_hot = True\n",
        "\n",
        "if is_hot:\n",
        "  print(\"It's a hot day!\")\n",
        "print(\"Enjoy your day!\")"
      ],
      "execution_count": 1,
      "outputs": [
        {
          "output_type": "stream",
          "text": [
            "It's a hot day!\n",
            "Enjoy your day!\n"
          ],
          "name": "stdout"
        }
      ]
    },
    {
      "cell_type": "markdown",
      "metadata": {
        "id": "3myWdggY4xHz",
        "colab_type": "text"
      },
      "source": [
        "**2. Write a program using if-else statement**"
      ]
    },
    {
      "cell_type": "code",
      "metadata": {
        "id": "_Y2a2CfC64LF",
        "colab_type": "code",
        "colab": {
          "base_uri": "https://localhost:8080/",
          "height": 67
        },
        "outputId": "b42aae5d-eb87-426d-8d4b-74362f267c8e"
      },
      "source": [
        "is_hot = True\n",
        "is_cold = True\n",
        "\n",
        "if is_hot:\n",
        "  print(\"It's a hot day\")\n",
        "  print(\"Drink plenty of water\")\n",
        "\n",
        "elif is_cold:\n",
        "  print(\"It's a cold day\")\n",
        "  print(\"Wear warm cloth\")\n",
        "\n",
        "else:\n",
        "  print(\"It's a normal day\")\n",
        "\n",
        "print(\"Enjoy your day\")"
      ],
      "execution_count": 3,
      "outputs": [
        {
          "output_type": "stream",
          "text": [
            "It's a hot day\n",
            "Drink plenty of water\n",
            "Enjoy your day\n"
          ],
          "name": "stdout"
        }
      ]
    },
    {
      "cell_type": "markdown",
      "metadata": {
        "id": "zs0h80i3D_Ev",
        "colab_type": "text"
      },
      "source": [
        "**3. Write a program for - price of a house is $1M. if buyer has good credit they need to put down 10% otherwise they need to put down 20%. print the down payment.**"
      ]
    },
    {
      "cell_type": "code",
      "metadata": {
        "id": "RZVn2L-1HJUt",
        "colab_type": "code",
        "colab": {
          "base_uri": "https://localhost:8080/",
          "height": 34
        },
        "outputId": "2584d17b-2b0e-4295-8769-9e45abb33934"
      },
      "source": [
        "price_of_house = 1000000\n",
        "has_good_credit = True\n",
        "if has_good_credit:\n",
        "  down_payment = 0.1 * price_of_house\n",
        "else:\n",
        "  down_payment = 0.2 * price_of_house\n",
        "print(f\"Down payment : ${down_payment}\")    "
      ],
      "execution_count": 4,
      "outputs": [
        {
          "output_type": "stream",
          "text": [
            "Down payment : $100000.0\n"
          ],
          "name": "stdout"
        }
      ]
    }
  ]
}