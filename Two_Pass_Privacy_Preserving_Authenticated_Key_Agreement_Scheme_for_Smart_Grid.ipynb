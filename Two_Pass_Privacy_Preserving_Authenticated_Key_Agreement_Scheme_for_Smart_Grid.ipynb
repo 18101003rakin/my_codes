{
  "nbformat": 4,
  "nbformat_minor": 0,
  "metadata": {
    "colab": {
      "name": "Two-Pass Privacy Preserving Authenticated Key Agreement Scheme for Smart Grid.ipynb",
      "provenance": [],
      "authorship_tag": "ABX9TyP8aP+d0ir/41EyUKRP+bCi",
      "include_colab_link": true
    },
    "kernelspec": {
      "name": "python3",
      "display_name": "Python 3"
    },
    "language_info": {
      "name": "python"
    }
  },
  "cells": [
    {
      "cell_type": "markdown",
      "metadata": {
        "id": "view-in-github",
        "colab_type": "text"
      },
      "source": [
        "<a href=\"https://colab.research.google.com/github/18101003rakin/my_codes/blob/master/Two_Pass_Privacy_Preserving_Authenticated_Key_Agreement_Scheme_for_Smart_Grid.ipynb\" target=\"_parent\"><img src=\"https://colab.research.google.com/assets/colab-badge.svg\" alt=\"Open In Colab\"/></a>"
      ]
    },
    {
      "cell_type": "code",
      "metadata": {
        "colab": {
          "base_uri": "https://localhost:8080/"
        },
        "id": "z_Hbud6hGw8A",
        "outputId": "9b7a7c83-5adb-42f8-bd5c-87eb293fd7be"
      },
      "source": [
        "import random\n",
        "x = int(input(\"Enter a value for 'x': \"))\n",
        "z = int(input(\"Enter a value for 'z': \"))\n",
        "sm_pub = random.randint(x, z)\n",
        "sp_pub = random.randint(x, z)\n",
        " \n",
        "sm_private = random.randint(x, z)\n",
        "sp_private = random.randint(x, z)\n",
        " \n",
        "smart_meter_pub = sm_pub\n",
        "service_prodiver_pub = sp_pub\n",
        " \n",
        "print('')\n",
        " \n",
        "print(f'Public Key for Smart Meter : {smart_meter_pub}')\n",
        "print(f'Public Key for Service Provider : {service_prodiver_pub}\\n')\n",
        " \n",
        "smart_meter_private = sm_private\n",
        "print(f'The Private Key for Smart Meter : {smart_meter_private}')\n",
        " \n",
        "# Gets the generated key for Smart Meter\n",
        "generated_key_sm = int(pow(service_prodiver_pub, smart_meter_private, smart_meter_pub))\n",
        " \n",
        "service_prodiver_private = sp_private\n",
        "print(f'The Private Key for Service Provider : {service_prodiver_private}\\n')\n",
        "\n",
        "# Gets the generated key for Service Provider.\n",
        "generated_key_sp = int(pow(service_prodiver_pub, service_prodiver_private, smart_meter_pub))\n",
        " \n",
        "# Secret Key for Smart Meter\n",
        "secret_key_sm = int(pow(generated_key_sp, smart_meter_private, smart_meter_pub))\n",
        " \n",
        "# Secret Key for Service Provider\n",
        "secret_key_sp = int(pow(generated_key_sm, service_prodiver_private, smart_meter_pub))\n",
        " \n",
        "print(f'Secret Key for Smart Meter : {secret_key_sm}')\n",
        "print(f'Secret Key for Service Provider : {secret_key_sp}')\n"
      ],
      "execution_count": null,
      "outputs": [
        {
          "output_type": "stream",
          "text": [
            "Enter a value for 'x': 1200\n",
            "Enter a value for 'z': 1500\n",
            "\n",
            "Public Key for Smart Meter : 1324\n",
            "Public Key for Service Provider : 1297\n",
            "\n",
            "The Private Key for Smart Meter : 1318\n",
            "The Private Key for Service Provider : 1478\n",
            "\n",
            "Secret Key for Smart Meter : 901\n",
            "Secret Key for Service Provider : 901\n"
          ],
          "name": "stdout"
        }
      ]
    }
  ]
}