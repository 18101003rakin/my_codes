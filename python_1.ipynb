{
  "nbformat": 4,
  "nbformat_minor": 0,
  "metadata": {
    "colab": {
      "name": "python_1.ipynb",
      "provenance": [],
      "authorship_tag": "ABX9TyOIKO0ptEaXOvhj+GeE0g2G",
      "include_colab_link": true
    },
    "kernelspec": {
      "name": "python3",
      "display_name": "Python 3"
    },
    "language_info": {
      "name": "python"
    }
  },
  "cells": [
    {
      "cell_type": "markdown",
      "metadata": {
        "id": "view-in-github",
        "colab_type": "text"
      },
      "source": [
        "<a href=\"https://colab.research.google.com/github/18101003rakin/my_codes/blob/master/python_1.ipynb\" target=\"_parent\"><img src=\"https://colab.research.google.com/assets/colab-badge.svg\" alt=\"Open In Colab\"/></a>"
      ]
    },
    {
      "cell_type": "markdown",
      "metadata": {
        "id": "luDor4Jt3wX5"
      },
      "source": [
        "Tutorial_1"
      ]
    },
    {
      "cell_type": "code",
      "metadata": {
        "id": "NNeu9NwbZmpH",
        "colab": {
          "base_uri": "https://localhost:8080/"
        },
        "outputId": "f6496fd5-a1a4-49ab-d5b6-8158f12fe052"
      },
      "source": [
        "print(\"Hello World!\")"
      ],
      "execution_count": 1,
      "outputs": [
        {
          "output_type": "stream",
          "text": [
            "Hello World!\n"
          ],
          "name": "stdout"
        }
      ]
    },
    {
      "cell_type": "code",
      "metadata": {
        "colab": {
          "base_uri": "https://localhost:8080/"
        },
        "id": "ZcpEkO0J4Tkx",
        "outputId": "c21f402b-7726-4c7e-d0e4-06be63b19b34"
      },
      "source": [
        "print('*' * 10)"
      ],
      "execution_count": 2,
      "outputs": [
        {
          "output_type": "stream",
          "text": [
            "**********\n"
          ],
          "name": "stdout"
        }
      ]
    },
    {
      "cell_type": "markdown",
      "metadata": {
        "id": "ZWkGiz6m4iTK"
      },
      "source": [
        "Tutorial_2"
      ]
    },
    {
      "cell_type": "code",
      "metadata": {
        "colab": {
          "base_uri": "https://localhost:8080/"
        },
        "id": "IVEcLSzB4kvX",
        "outputId": "578fe1f1-05ef-4628-c6f3-74490eb42e01"
      },
      "source": [
        "price = 10\n",
        "price\n"
      ],
      "execution_count": 3,
      "outputs": [
        {
          "output_type": "execute_result",
          "data": {
            "text/plain": [
              "10"
            ]
          },
          "metadata": {
            "tags": []
          },
          "execution_count": 3
        }
      ]
    },
    {
      "cell_type": "markdown",
      "metadata": {
        "id": "gL4V6eGa4v-3"
      },
      "source": [
        "Tutorial_3 (data input)"
      ]
    },
    {
      "cell_type": "code",
      "metadata": {
        "colab": {
          "base_uri": "https://localhost:8080/"
        },
        "id": "v6Lvgc8Z42bG",
        "outputId": "531611d9-076e-4679-e85f-83dab228b3a9"
      },
      "source": [
        "name = input(\"What is your name? \")\n",
        "print(\"Hi \"+name)"
      ],
      "execution_count": 4,
      "outputs": [
        {
          "output_type": "stream",
          "text": [
            "What is your name? Rakin\n",
            "Hi Rakin\n"
          ],
          "name": "stdout"
        }
      ]
    },
    {
      "cell_type": "markdown",
      "metadata": {
        "id": "mgfdn4F65R5E"
      },
      "source": [
        "Write a program which ask user about his/her favoriout color and name and print as \"John likes blue\"."
      ]
    },
    {
      "cell_type": "code",
      "metadata": {
        "colab": {
          "base_uri": "https://localhost:8080/"
        },
        "id": "KcMxwus25mp9",
        "outputId": "db20e506-374f-44df-8cc2-93437f26943f"
      },
      "source": [
        "name = input(\"What is your name?\")\n",
        "color = input(\"What is your favoriout color? \")\n",
        "print(name+\" likes \"+color+\".\")"
      ],
      "execution_count": 7,
      "outputs": [
        {
          "output_type": "stream",
          "text": [
            "What is your name?Rakin\n",
            "What is your favoriout color? white\n",
            "Rakin likes white.\n"
          ],
          "name": "stdout"
        }
      ]
    },
    {
      "cell_type": "markdown",
      "metadata": {
        "id": "j08h4b3t6eoj"
      },
      "source": [
        "Tutorial_4 (calculate age)"
      ]
    },
    {
      "cell_type": "code",
      "metadata": {
        "colab": {
          "base_uri": "https://localhost:8080/"
        },
        "id": "dtS57U4H6mYt",
        "outputId": "3f0b3f92-0a7b-44a6-c69d-103cbfacb253"
      },
      "source": [
        "birth_year = input(\"Birth year : \")\n",
        "age = 2021-int(birth_year)\n",
        "print(age)"
      ],
      "execution_count": 8,
      "outputs": [
        {
          "output_type": "stream",
          "text": [
            "Birth year : 1999\n",
            "22\n"
          ],
          "name": "stdout"
        }
      ]
    },
    {
      "cell_type": "markdown",
      "metadata": {
        "id": "nTAisC797NuH"
      },
      "source": [
        "Tutorial_5 (convert weight lb to kg)\n"
      ]
    },
    {
      "cell_type": "code",
      "metadata": {
        "colab": {
          "base_uri": "https://localhost:8080/"
        },
        "id": "F0rp4M8u7XnX",
        "outputId": "d1bac12c-b41a-4b6a-e2c2-ff44c24024f7"
      },
      "source": [
        "weight_lbs = input(\"weight in lbs : \")\n",
        "weight_kg = int(weight_lbs)*.45\n",
        "print(weight_kg)"
      ],
      "execution_count": 10,
      "outputs": [
        {
          "output_type": "stream",
          "text": [
            "weight in lbs : 200\n",
            "90.0\n"
          ],
          "name": "stdout"
        }
      ]
    },
    {
      "cell_type": "markdown",
      "metadata": {
        "id": "qfz4Fdio8LNk"
      },
      "source": [
        "Tutorial_6 (Multiple line)"
      ]
    },
    {
      "cell_type": "code",
      "metadata": {
        "colab": {
          "base_uri": "https://localhost:8080/"
        },
        "id": "Zh14o4pu8TRd",
        "outputId": "fa94d585-ba2c-4327-d585-ccccebf8dcf8"
      },
      "source": [
        "course = ''' Hi John!\n",
        "             Here is our first e-mail to you.\n",
        "             Thank you,\n",
        "             The Support Team.\n",
        "         '''\n",
        "print(course)"
      ],
      "execution_count": 12,
      "outputs": [
        {
          "output_type": "stream",
          "text": [
            " Hi John!\n",
            "             Here is our first e-mail to you.\n",
            "             Thank you,\n",
            "             The Support Team.\n",
            "         \n"
          ],
          "name": "stdout"
        }
      ]
    },
    {
      "cell_type": "markdown",
      "metadata": {
        "id": "EWAZw7bS901V"
      },
      "source": [
        "Tutorial_7"
      ]
    },
    {
      "cell_type": "code",
      "metadata": {
        "colab": {
          "base_uri": "https://localhost:8080/"
        },
        "id": "pCMPUgGA9_eO",
        "outputId": "25e64d5c-0f9b-4d65-a462-eb4a4132d9a7"
      },
      "source": [
        "course = \"Python for Beginners.\"\n",
        "print(course[0:3])\n",
        "\n",
        "name = \"Jennifer\"\n",
        "print(name[1:-1])"
      ],
      "execution_count": 13,
      "outputs": [
        {
          "output_type": "stream",
          "text": [
            "Pyt\n",
            "ennife\n"
          ],
          "name": "stdout"
        }
      ]
    },
    {
      "cell_type": "markdown",
      "metadata": {
        "id": "vEpNSA3f-aA8"
      },
      "source": [
        "Tutorial_8 (Formated String)"
      ]
    },
    {
      "cell_type": "code",
      "metadata": {
        "colab": {
          "base_uri": "https://localhost:8080/"
        },
        "id": "4Vg7chFd-kfV",
        "outputId": "6d81583c-737b-47e5-9f38-a8ceab2ef6b1"
      },
      "source": [
        "#1 print john [smith] is a codder. (not ideal)\n",
        "\n",
        "first_name = \"John\"\n",
        "last_name = \"Smith\"\n",
        "\n",
        "message = first_name + '[' + last_name + ']'+ ' is a codder.'\n",
        "print(message)\n",
        "\n",
        "#2 using formated way (ideal)\n",
        "\n",
        "first_name = \"John\"\n",
        "last_name = \"Smith\"\n",
        "message = f'{first_name }[{last_name}] is a codder.'\n",
        "\n",
        "print(message)\n"
      ],
      "execution_count": 17,
      "outputs": [
        {
          "output_type": "stream",
          "text": [
            "John[Smith] is a codder.\n",
            "John[Smith] is a codder.\n"
          ],
          "name": "stdout"
        }
      ]
    },
    {
      "cell_type": "markdown",
      "metadata": {
        "id": "ccA5jVT4B9sg"
      },
      "source": [
        "Tutorial_9 (String methods)"
      ]
    },
    {
      "cell_type": "code",
      "metadata": {
        "colab": {
          "base_uri": "https://localhost:8080/"
        },
        "id": "Rdr4t_3nCHIf",
        "outputId": "7d47f927-1ef5-4f40-9692-07094039b016"
      },
      "source": [
        "course = \"python for beginners\"\n",
        "\n",
        "print(len(course)) #count the length\n",
        "print(course.upper()) #convert in uppercase\n",
        "print(course.find('n')) #show the index of p. we can also use it for finding a word\n",
        "print(course.replace('beginners','absolute beginners')) #replace beginners to absolute beginners.\n",
        "print('python' in course) #it will find python in the variable. return a boolean value."
      ],
      "execution_count": 20,
      "outputs": [
        {
          "output_type": "stream",
          "text": [
            "20\n",
            "PYTHON FOR BEGINNERS\n",
            "5\n",
            "python for absolute beginners\n",
            "True\n"
          ],
          "name": "stdout"
        }
      ]
    },
    {
      "cell_type": "markdown",
      "metadata": {
        "id": "lnTnnEPYDvA7"
      },
      "source": [
        "Tutorial_10 (Arithmetic Operation)"
      ]
    },
    {
      "cell_type": "code",
      "metadata": {
        "colab": {
          "base_uri": "https://localhost:8080/"
        },
        "id": "S2c5-MCRD7FW",
        "outputId": "293c4e97-e07e-4ead-b206-6e3db22743dc"
      },
      "source": [
        "print(10+3) #addition\n",
        "print(10-3) #subtraction\n",
        "print(10/3) #division. return result with floating point\n",
        "print(10//3) #division. return result in int value\n",
        "print(10%3) #modulas\n",
        "print(10**3) #exponent\n",
        "print(10*3) #multiplication\n"
      ],
      "execution_count": 21,
      "outputs": [
        {
          "output_type": "stream",
          "text": [
            "13\n",
            "7\n",
            "3.3333333333333335\n",
            "3\n",
            "1\n",
            "1000\n",
            "30\n"
          ],
          "name": "stdout"
        }
      ]
    }
  ]
}