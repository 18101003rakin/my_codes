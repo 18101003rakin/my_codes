{
  "nbformat": 4,
  "nbformat_minor": 0,
  "metadata": {
    "colab": {
      "name": "Lab-1.ipynb",
      "provenance": [],
      "authorship_tag": "ABX9TyN3fMxx6zzs2crdn9PK4z9a",
      "include_colab_link": true
    },
    "kernelspec": {
      "name": "python3",
      "display_name": "Python 3"
    },
    "language_info": {
      "name": "python"
    }
  },
  "cells": [
    {
      "cell_type": "markdown",
      "metadata": {
        "id": "view-in-github",
        "colab_type": "text"
      },
      "source": [
        "<a href=\"https://colab.research.google.com/github/18101003rakin/my_codes/blob/master/Lab_1.ipynb\" target=\"_parent\"><img src=\"https://colab.research.google.com/assets/colab-badge.svg\" alt=\"Open In Colab\"/></a>"
      ]
    },
    {
      "cell_type": "markdown",
      "metadata": {
        "id": "Hci4F4ssUKg5"
      },
      "source": [
        "**First Come Serve**"
      ]
    },
    {
      "cell_type": "code",
      "metadata": {
        "colab": {
          "base_uri": "https://localhost:8080/"
        },
        "id": "dWxTPfQPUEje",
        "outputId": "ed67cf3e-18c5-410a-cdbf-b1aa609d0fae"
      },
      "source": [
        "print('Process name :', end=' ')\n",
        "process = input().split()\n",
        "\n",
        "print('Brurst time :', end=' ')\n",
        "time = list(map(int, input().split()))\n",
        "\n",
        "type(process)\n",
        "type(process[1])\n",
        "\n",
        "type(time)\n",
        "type(time[1])\n",
        "\n",
        "import pandas as pd\n",
        "\n",
        "l = [process, time]\n",
        "df = pd.DataFrame(l).transpose()\n",
        "df.columns = ['Process', 'Time']\n",
        "df\n",
        "\n",
        "print(0, end=' ')\n",
        "\n",
        "temp = 0\n",
        "l2 = [0]\n",
        "\n",
        "for p, t in zip(df.Process, df.Time):\n",
        "    temp = temp + t\n",
        "    l2.append(temp)\n",
        "    print(p, temp, end=' ')\n",
        "\n",
        "l2\n",
        "\n",
        "l2 = l2[:-1]\n",
        "l2\n",
        "\n",
        "import numpy as np\n",
        "\n",
        "waiting = np.sum(l2)/len(l2)\n",
        "print('\\nAverage waiting time : {0:.2f}ms'.format(waiting))"
      ],
      "execution_count": 9,
      "outputs": [
        {
          "output_type": "stream",
          "text": [
            "Process name : p1 p2 p3 p4\n",
            "Brurst time : 21 3 6 2\n",
            "0 p1 21 p2 24 p3 30 p4 32 \n",
            "Average waiting time : 18.75ms\n"
          ],
          "name": "stdout"
        }
      ]
    },
    {
      "cell_type": "markdown",
      "metadata": {
        "id": "w-rVtx10WprB"
      },
      "source": [
        "**Shortest Job First**"
      ]
    },
    {
      "cell_type": "code",
      "metadata": {
        "colab": {
          "base_uri": "https://localhost:8080/"
        },
        "id": "AliaN1nRWr2H",
        "outputId": "9a2d7873-5090-4d85-df59-0fb09b585d4e"
      },
      "source": [
        "print('Process name :', end=' ')\n",
        "process = input().split()\n",
        "\n",
        "print('Brurst time :', end=' ')\n",
        "time = list(map(int, input().split()))\n",
        "\n",
        "type(process)\n",
        "type(process[1])\n",
        "\n",
        "type(time)\n",
        "type(time[1])\n",
        "\n",
        "import pandas as pd\n",
        "df.sort_values(by=['Time'], ascending=True, axis=0, inplace=True)\n",
        "df\n",
        "print(0, end=' ')\n",
        "temp = 0\n",
        "l3 = [0]\n",
        "\n",
        "for p, t in zip(df.Process, df.Time):\n",
        "    temp += t\n",
        "    l3.append(temp)\n",
        "    print(p, temp, end=' ')\n",
        "\n",
        "l3 = l3[:-1]\n",
        "\n",
        "import numpy as np\n",
        "waiting = np.sum(l3)/len(l3)\n",
        "print('\\nAverage waiting time : {0:.2f}ms'.format(waiting))"
      ],
      "execution_count": 12,
      "outputs": [
        {
          "output_type": "stream",
          "text": [
            "Process name : p4 p2 p3 p1\n",
            "Brurst time : 2 3 6 21\n",
            "0 p4 2 p2 5 p3 11 p1 32 \n",
            "Average waiting time : 4.50ms\n"
          ],
          "name": "stdout"
        }
      ]
    }
  ]
}