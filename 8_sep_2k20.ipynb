{
  "nbformat": 4,
  "nbformat_minor": 0,
  "metadata": {
    "colab": {
      "name": "8-sep-2k20.ipynb",
      "provenance": [],
      "authorship_tag": "ABX9TyNkb8xfg+JLV+NDeJ8RcSaj",
      "include_colab_link": true
    },
    "kernelspec": {
      "name": "python3",
      "display_name": "Python 3"
    }
  },
  "cells": [
    {
      "cell_type": "markdown",
      "metadata": {
        "id": "view-in-github",
        "colab_type": "text"
      },
      "source": [
        "<a href=\"https://colab.research.google.com/github/18101003rakin/my_codes/blob/master/8_sep_2k20.ipynb\" target=\"_parent\"><img src=\"https://colab.research.google.com/assets/colab-badge.svg\" alt=\"Open In Colab\"/></a>"
      ]
    },
    {
      "cell_type": "markdown",
      "metadata": {
        "id": "Y5A1VjcKuyvS",
        "colab_type": "text"
      },
      "source": [
        "**1. Formated String\n",
        "print \"John [Smith] is a [Codder]\"**"
      ]
    },
    {
      "cell_type": "code",
      "metadata": {
        "id": "wnMmUGqUupdb",
        "colab_type": "code",
        "colab": {
          "base_uri": "https://localhost:8080/",
          "height": 67
        },
        "outputId": "427b855e-fff5-493a-fc7b-e6b9ffff122f"
      },
      "source": [
        "first_name = input(\"First name = \")\n",
        "last_name = input(\"Last name = \")\n",
        "\n",
        "messege = first_name+\" [\" +last_name+\"]\"+\" is a [Coddr]\"\n",
        "print(messege)"
      ],
      "execution_count": 4,
      "outputs": [
        {
          "output_type": "stream",
          "text": [
            "First name = John\n",
            "Last name = Smith\n",
            "John [Smith] is a [Coddr]\n"
          ],
          "name": "stdout"
        }
      ]
    },
    {
      "cell_type": "markdown",
      "metadata": {
        "id": "S-vEq719wiQH",
        "colab_type": "text"
      },
      "source": [
        "**2. String Methods**"
      ]
    },
    {
      "cell_type": "code",
      "metadata": {
        "id": "wVQSHHyhwrFA",
        "colab_type": "code",
        "colab": {
          "base_uri": "https://localhost:8080/",
          "height": 101
        },
        "outputId": "66e4a661-bb3c-4f70-aa27-7404c05b6f2b"
      },
      "source": [
        "course = 'Python for Beginners'\n",
        "print(len(course))\n",
        "print(course.upper())\n",
        "print(course.find(\"P\"))\n",
        "print(course.replace(\"Beginners\",\"Absolute beginners\"))\n",
        "print(\"Python\" in course)"
      ],
      "execution_count": 6,
      "outputs": [
        {
          "output_type": "stream",
          "text": [
            "20\n",
            "PYTHON FOR BEGINNERS\n",
            "0\n",
            "Python for Absolute beginners\n",
            "True\n"
          ],
          "name": "stdout"
        }
      ]
    },
    {
      "cell_type": "markdown",
      "metadata": {
        "id": "heeHevDcxn7x",
        "colab_type": "text"
      },
      "source": [
        "**3. Arithmetic Operation**"
      ]
    },
    {
      "cell_type": "code",
      "metadata": {
        "id": "7r7oH-e2xzZY",
        "colab_type": "code",
        "colab": {
          "base_uri": "https://localhost:8080/",
          "height": 134
        },
        "outputId": "14d511e8-277c-4dca-e01f-c8253480ccb1"
      },
      "source": [
        "print(10+3) #addition\n",
        "print(10-3) #subtraction\n",
        "print(10*3) #multiplication\n",
        "print(10/3) #divition\n",
        "print(10//3) #divition return integer value\n",
        "print(10%3) #modulas\n",
        "print(10**3) #exponent 10^3\n"
      ],
      "execution_count": 8,
      "outputs": [
        {
          "output_type": "stream",
          "text": [
            "13\n",
            "7\n",
            "30\n",
            "3.3333333333333335\n",
            "3\n",
            "1\n",
            "1000\n"
          ],
          "name": "stdout"
        }
      ]
    },
    {
      "cell_type": "markdown",
      "metadata": {
        "id": "vtqHR8l1ywgu",
        "colab_type": "text"
      },
      "source": [
        "**4. Math function**"
      ]
    },
    {
      "cell_type": "code",
      "metadata": {
        "id": "6RRl2w82yvyy",
        "colab_type": "code",
        "colab": {
          "base_uri": "https://localhost:8080/",
          "height": 50
        },
        "outputId": "cdc78388-1c36-4111-985e-98f1bcb48538"
      },
      "source": [
        "import math\n",
        "print(math.ceil(2.9))\n",
        "print(math.floor(2.9))"
      ],
      "execution_count": 9,
      "outputs": [
        {
          "output_type": "stream",
          "text": [
            "3\n",
            "2\n"
          ],
          "name": "stdout"
        }
      ]
    }
  ]
}