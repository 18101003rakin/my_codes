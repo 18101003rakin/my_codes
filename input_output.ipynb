{
  "nbformat": 4,
  "nbformat_minor": 0,
  "metadata": {
    "colab": {
      "name": "input_output.ipynb",
      "provenance": [],
      "authorship_tag": "ABX9TyO+N9kTtQRFJ5H7bHPika37",
      "include_colab_link": true
    },
    "kernelspec": {
      "name": "python3",
      "display_name": "Python 3"
    }
  },
  "cells": [
    {
      "cell_type": "markdown",
      "metadata": {
        "id": "view-in-github",
        "colab_type": "text"
      },
      "source": [
        "<a href=\"https://colab.research.google.com/github/18101003rakin/my_codes/blob/master/input_output.ipynb\" target=\"_parent\"><img src=\"https://colab.research.google.com/assets/colab-badge.svg\" alt=\"Open In Colab\"/></a>"
      ]
    },
    {
      "cell_type": "markdown",
      "metadata": {
        "id": "Fm6HOqD8wHQ0",
        "colab_type": "text"
      },
      "source": [
        "**1. Write a program which ask user about his/her favoriout color and name and print as \"John likes Blue.\"**"
      ]
    },
    {
      "cell_type": "code",
      "metadata": {
        "id": "f3UYnH9LvNYg",
        "colab_type": "code",
        "colab": {
          "base_uri": "https://localhost:8080/",
          "height": 67
        },
        "outputId": "11d5d7ae-633b-49de-8f88-8ca9d8794d68"
      },
      "source": [
        "name = input(\"What is your name? \")\n",
        "color = input(\"What is your favoriout color? \")\n",
        "print(name+\" likes \"+color)"
      ],
      "execution_count": 2,
      "outputs": [
        {
          "output_type": "stream",
          "text": [
            "What is your name? Sabbir\n",
            "What is your favoriout color? Red\n",
            "Sabbir likes Red\n"
          ],
          "name": "stdout"
        }
      ]
    },
    {
      "cell_type": "markdown",
      "metadata": {
        "id": "0FetUAHVxS5R",
        "colab_type": "text"
      },
      "source": [
        "**2. Write a program to calculate age**"
      ]
    },
    {
      "cell_type": "code",
      "metadata": {
        "id": "pjADDoHqxipJ",
        "colab_type": "code",
        "colab": {
          "base_uri": "https://localhost:8080/",
          "height": 67
        },
        "outputId": "c8abea24-5a80-4ea7-b752-86fc8e3ea7f2"
      },
      "source": [
        "birth_year = input(\"Enter your birth year - \" )\n",
        "current_year = input(\"Enter current year - \")\n",
        "age = int(current_year) - int(birth_year)  #convert string to int\n",
        "print(\"Your age : \",age)"
      ],
      "execution_count": 3,
      "outputs": [
        {
          "output_type": "stream",
          "text": [
            "Enter your birth year - 1997\n",
            "Enter current year - 2020\n",
            "Your age :  23\n"
          ],
          "name": "stdout"
        }
      ]
    },
    {
      "cell_type": "markdown",
      "metadata": {
        "id": "297rogbLydI5",
        "colab_type": "text"
      },
      "source": [
        "**3. Write a code to convert weight kg to lb**"
      ]
    },
    {
      "cell_type": "code",
      "metadata": {
        "id": "-y7Ot8EKzbEb",
        "colab_type": "code",
        "colab": {
          "base_uri": "https://localhost:8080/",
          "height": 50
        },
        "outputId": "420378dc-564f-443f-db5c-1cd44c5ac87a"
      },
      "source": [
        "weight_in_lbs = float(input(\"Enter Weight in lbs : \"))\n",
        "weight_in_kg = weight_in_lbs*0.45\n",
        "print(\"Converted weight is \",weight_in_kg,\" KG\")"
      ],
      "execution_count": 4,
      "outputs": [
        {
          "output_type": "stream",
          "text": [
            "Enter Weight in lbs : 34\n",
            "Converted weight is  15.3  KG\n"
          ],
          "name": "stdout"
        }
      ]
    },
    {
      "cell_type": "markdown",
      "metadata": {
        "id": "yl1mjLSg2umy",
        "colab_type": "text"
      },
      "source": [
        "**4. write a code to print \"PHY\" from PHYTHON**"
      ]
    },
    {
      "cell_type": "code",
      "metadata": {
        "id": "qJpQf1Wf3nfM",
        "colab_type": "code",
        "colab": {
          "base_uri": "https://localhost:8080/",
          "height": 34
        },
        "outputId": "a7a8c442-a648-4367-bbb0-ac0c2508ea15"
      },
      "source": [
        "p = \"PHYTHON\"\n",
        "print(p[0:3])"
      ],
      "execution_count": 6,
      "outputs": [
        {
          "output_type": "stream",
          "text": [
            "PHY\n"
          ],
          "name": "stdout"
        }
      ]
    }
  ]
}